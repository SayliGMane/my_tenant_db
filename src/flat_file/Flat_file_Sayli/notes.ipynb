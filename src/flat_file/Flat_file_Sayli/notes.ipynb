{
 "cells": [
  {
   "cell_type": "code",
   "execution_count": null,
   "metadata": {},
   "outputs": [],
   "source": [
    "\n",
    "```postgres\n",
    "\n",
    "CREATE TABLE flat_details(\n",
    "    FlatNo VARCHAR(5) PRIMARY KEY,\n",
    "    FloorNo INT ,\n",
    "    Furnished BOOL,\n",
    "    PropertyType VARCHAR(5),\n",
    "    Area_in_m2 INT\n",
    "    CHECK(PropertyType IN ('2BHK','1BHK','SHOP'))      \n",
    ");\n",
    "\n",
    "````\n"
   ]
  },
  {
   "cell_type": "markdown",
   "metadata": {},
   "source": [
    "### Mission Statement\n",
    "     To effectively manage and maintain the records of all properties, owners, tenants, and rental transactions. (In simle words data will help us not managing the all properties bt also to track all records of rented properties)\n",
    "\n"
   ]
  },
  {
   "cell_type": "markdown",
   "metadata": {},
   "source": [
    "\n",
    "```postgres\n",
    "\n",
    "CREATE TABLE flat_owner_details(\n",
    "    FlatNo VARCHAR(5) PRIMARY KEY,\n",
    "    Owner  TEXT    \n",
    ");\n",
    "\n",
    "````\n",
    "\n",
    "\n",
    "```postgres\n",
    "\n",
    "CREATE TABLE rent_details(\n",
    "    FlatNo VARCHAR(5) PRIMARY KEY,\n",
    "    TenantID CHAR(5) UNIQUE,\n",
    "    ContractStartDate DATE ,\n",
    "    ContractEndDate DATE ,\n",
    "    Rent NUMERIC(5)  \n",
    ");\n",
    "\n",
    "\n",
    "\n",
    "````\n"
   ]
  },
  {
   "cell_type": "markdown",
   "metadata": {},
   "source": [
    "> Accurate Record Keeping:\n",
    "\n",
    "\n",
    "> Efficiently managing all data: \n",
    "    Ensure all property details, owner details, tenant information, and rent transactions are accurately recorded and regularly updated.\n",
    "\n",
    "> Accessing the tenant info: \n",
    "     all task (related to tenant) such as tracking rent payments, lease start and end dates, and tenant changes through a centralized database.\n",
    "\n",
    "> Giving reminders:\n",
    "Provide easy and quick access to property, owner, tenant, and rental information for authorized users, facilitating effective management and decision-making.\n"
   ]
  },
  {
   "cell_type": "markdown",
   "metadata": {},
   "source": [
    "CREATE DATABASE tenant_details(\n",
    "    TenantID CHAR(5) UNIQUE,\n",
    "    TenantName TEXT,\n",
    "    Gender TEXT,\n",
    "    PermanentAddress VARCHAR(70),\n",
    "    Occupation TEXT,\n",
    "    UID_Number VARCHAR(10),\n",
    "    ContactNumber INT\n",
    "    CHECK(GENDER IN ('MALE','FEMALE','NA')) \n",
    ")"
   ]
  }
 ],
 "metadata": {
  "language_info": {
   "name": "python"
  }
 },
 "nbformat": 4,
 "nbformat_minor": 2
}
